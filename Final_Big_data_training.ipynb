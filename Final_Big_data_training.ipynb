{
  "cells": [
    {
      "cell_type": "markdown",
      "source": [
        "##Initial Setup\n",
        "\n",
        "\n",
        "\n",
        "*   Mount google drive\n",
        "*   install dependencies\n",
        "*   Import libraries\n",
        "*   Configure pyspark\n",
        "*   Unzip data into colab disk memory(faster than unzipping in drive)\n",
        "\n",
        "\n",
        "\n",
        "\n",
        "\n",
        "\n"
      ],
      "metadata": {
        "id": "fkzgi2pNBNib"
      }
    },
    {
      "cell_type": "code",
      "execution_count": 1,
      "metadata": {
        "id": "SbB7GVzoFoVt",
        "colab": {
          "base_uri": "https://localhost:8080/"
        },
        "outputId": "af8e1e4e-4916-41fa-e4eb-2157c8a12859"
      },
      "outputs": [
        {
          "output_type": "stream",
          "name": "stdout",
          "text": [
            "Mounted at /content/drive\n"
          ]
        }
      ],
      "source": [
        "from google.colab import drive\n",
        "drive.mount('/content/drive')"
      ]
    },
    {
      "cell_type": "code",
      "execution_count": null,
      "metadata": {
        "id": "LSJP-MKIv79C"
      },
      "outputs": [],
      "source": [
        "!pip install elephas\n",
        "!pip install pyngrok==4.1.1\n",
        "# !pip install pyspark\n",
        "!apt install openjdk-8-jdk-headless --yes\n"
      ]
    },
    {
      "cell_type": "code",
      "execution_count": 3,
      "metadata": {
        "id": "Y-MOLEoVv79E"
      },
      "outputs": [],
      "source": [
        "#imports\n",
        "import io\n",
        "import os\n",
        "from PIL import Image, ImageFile\n",
        "ImageFile.LOAD_TRUNCATED_IMAGES = True\n",
        "import numpy as np\n",
        "import matplotlib.pyplot as plt\n",
        "from pyngrok import ngrok\n",
        "from zipfile import ZipFile\n",
        "#pyspark\n",
        "import pyspark\n",
        "from pyspark.sql.functions import col, pandas_udf, PandasUDFType\n",
        "from pyspark.ml.linalg import Vectors, VectorUDT\n",
        "from pyspark.sql.functions import udf\n",
        "from pyspark.ml.evaluation import MulticlassClassificationEvaluator\n",
        "from pyspark.mllib.evaluation import MulticlassMetrics\n",
        "from pyspark.sql import SparkSession\n",
        "from pyspark.sql.functions import lit\n",
        "from pyspark.sql.types import StructType,StructField,ArrayType,StringType,LongType,BinaryType,IntegerType,FloatType,DoubleType\n",
        "from pyspark import SparkContext, SparkConf\n",
        "# Elephas for Deep Learning on Spark\n",
        "from elephas.ml_model import ElephasEstimator, ElephasTransformer,load_ml_transformer\n",
        "from elephas.utils.model_utils import ModelType, argmax\n",
        "#Keras Deep Learning\n",
        "import tensorflow as tf\n",
        "from tensorflow import keras\n",
        "from tensorflow.keras.preprocessing.image import img_to_array\n",
        "from keras .models import Sequential\n",
        "from keras.layers.core import Dense, Dropout, Activation\n",
        "from keras import optimizers, regularizers\n",
        "\n",
        "plt.rcParams[\"figure.figsize\"] = (8,5.5)\n"
      ]
    },
    {
      "cell_type": "code",
      "execution_count": 4,
      "metadata": {
        "id": "bGbLIxcAv79F"
      },
      "outputs": [],
      "source": [
        "# create the session\n",
        "conf = SparkConf().set(\"spark.ui.port\", \"4050\").set('spark.driver.memory', '100G').set('spark.driver.maxResultSize', '100G')\n",
        "# create the context\n",
        "sc = pyspark.SparkContext(conf=conf)\n",
        "spark = SparkSession.builder.getOrCreate()\n",
        "spark.conf.set(\"spark.sql.execution.arrow.maxRecordsPerBatch\", \"32\")"
      ]
    },
    {
      "cell_type": "code",
      "execution_count": 6,
      "metadata": {
        "colab": {
          "base_uri": "https://localhost:8080/"
        },
        "id": "0SNMObnt-IPa",
        "outputId": "fe7cc0f5-41a5-4d04-d7af-437a479fbc49"
      },
      "outputs": [
        {
          "output_type": "stream",
          "name": "stdout",
          "text": [
            "ngrok: no process found\n",
            "Authtoken saved to configuration file: /root/.ngrok2/ngrok.yml\n",
            "Pyspark UI URL :  http://8a82-35-197-49-33.ngrok.io\n"
          ]
        }
      ],
      "source": [
        "!killall ngrok\n",
        "!ngrok authtoken {'296gloYMZx0IEn84mbVMCKzo1SV_6Sp5sYcPoFygBrSxhqrgs'}\n",
        "public_url = ngrok.connect(port='4050')\n",
        "print(\"Pyspark UI URL : \",public_url)\n",
        "## use to kill ngrock sessions\n",
        "# !killall ngrok"
      ]
    },
    {
      "cell_type": "code",
      "execution_count": 7,
      "metadata": {
        "id": "waNV2MEyFs5p",
        "colab": {
          "base_uri": "https://localhost:8080/"
        },
        "outputId": "dc4b47a4-5dd7-404b-8654-7ab3a687f740"
      },
      "outputs": [
        {
          "output_type": "stream",
          "name": "stdout",
          "text": [
            "File is unzipped in temp folder\n"
          ]
        }
      ],
      "source": [
        "with ZipFile('/content/drive/MyDrive/Big_data_data/plant_data_v1.zip', 'r') as zipObj:\n",
        "   # Extract all the contents of zip file in current directory\n",
        "   zipObj.extractall('unzip_plant')\n",
        "   print('File is unzipped in temp folder') "
      ]
    },
    {
      "cell_type": "markdown",
      "source": [
        "##Data Preprocessing\n",
        "\n",
        "\n",
        "*   Remove some data to escape memory issues: After removing data ,each class can have at max 1800 images.\n",
        "*   Further only select classes of plants that have atleast two sub categories(e.h healthy apple , apple scab).This leaves us with 33 classes from 9 different plants\n",
        "*   Get labels names from the folder names and encode them in dictionary.\n",
        "*   Import all data after resizing the into pyspark dataframe and label it.\n",
        "*   resize size of images and flatten them into a list.\n",
        "*   Convert the array into Dense Vector type for pyspark compatibility.\n",
        "\n"
      ],
      "metadata": {
        "id": "vfNvV2xpC3Vt"
      }
    },
    {
      "cell_type": "code",
      "execution_count": 9,
      "metadata": {
        "id": "TS5JSbF7IlsN",
        "colab": {
          "base_uri": "https://localhost:8080/"
        },
        "outputId": "0e9a912c-cbee-4262-ee20-50df02c9d0c8"
      },
      "outputs": [
        {
          "output_type": "stream",
          "name": "stdout",
          "text": [
            "/content/unzip_plant/New Plant Diseases Dataset(Augmented)/train/Grape___Leaf_blight_(Isariopsis_Leaf_Spot)\n",
            "/content/unzip_plant/New Plant Diseases Dataset(Augmented)/train/Strawberry___Leaf_scorch\n",
            "/content/unzip_plant/New Plant Diseases Dataset(Augmented)/train/Pepper,_bell___Bacterial_spot\n",
            "/content/unzip_plant/New Plant Diseases Dataset(Augmented)/train/Raspberry___healthy\n",
            "/content/unzip_plant/New Plant Diseases Dataset(Augmented)/train/Peach___healthy\n",
            "/content/unzip_plant/New Plant Diseases Dataset(Augmented)/train/Tomato___Early_blight\n",
            "/content/unzip_plant/New Plant Diseases Dataset(Augmented)/train/Apple___Black_rot\n",
            "/content/unzip_plant/New Plant Diseases Dataset(Augmented)/train/Apple___Cedar_apple_rust\n",
            "/content/unzip_plant/New Plant Diseases Dataset(Augmented)/train/Corn_(maize)___Cercospora_leaf_spot Gray_leaf_spot\n",
            "/content/unzip_plant/New Plant Diseases Dataset(Augmented)/train/Orange___Haunglongbing_(Citrus_greening)\n",
            "/content/unzip_plant/New Plant Diseases Dataset(Augmented)/train/Tomato___Bacterial_spot\n",
            "/content/unzip_plant/New Plant Diseases Dataset(Augmented)/train/Potato___healthy\n",
            "/content/unzip_plant/New Plant Diseases Dataset(Augmented)/train/Tomato___Late_blight\n",
            "/content/unzip_plant/New Plant Diseases Dataset(Augmented)/train/Grape___Esca_(Black_Measles)\n",
            "/content/unzip_plant/New Plant Diseases Dataset(Augmented)/train/Blueberry___healthy\n",
            "/content/unzip_plant/New Plant Diseases Dataset(Augmented)/train/Corn_(maize)___Common_rust_\n",
            "/content/unzip_plant/New Plant Diseases Dataset(Augmented)/train/Corn_(maize)___Northern_Leaf_Blight\n",
            "/content/unzip_plant/New Plant Diseases Dataset(Augmented)/train/Tomato___Tomato_Yellow_Leaf_Curl_Virus\n",
            "/content/unzip_plant/New Plant Diseases Dataset(Augmented)/train/Cherry_(including_sour)___Powdery_mildew\n",
            "/content/unzip_plant/New Plant Diseases Dataset(Augmented)/train/Grape___Black_rot\n",
            "/content/unzip_plant/New Plant Diseases Dataset(Augmented)/train/Apple___Apple_scab\n",
            "/content/unzip_plant/New Plant Diseases Dataset(Augmented)/train/Tomato___healthy\n",
            "/content/unzip_plant/New Plant Diseases Dataset(Augmented)/train/Tomato___Tomato_mosaic_virus\n",
            "/content/unzip_plant/New Plant Diseases Dataset(Augmented)/train/Potato___Early_blight\n",
            "/content/unzip_plant/New Plant Diseases Dataset(Augmented)/train/Tomato___Target_Spot\n",
            "/content/unzip_plant/New Plant Diseases Dataset(Augmented)/train/Grape___healthy\n",
            "/content/unzip_plant/New Plant Diseases Dataset(Augmented)/train/Tomato___Leaf_Mold\n",
            "/content/unzip_plant/New Plant Diseases Dataset(Augmented)/train/Pepper,_bell___healthy\n",
            "/content/unzip_plant/New Plant Diseases Dataset(Augmented)/train/Tomato___Septoria_leaf_spot\n",
            "/content/unzip_plant/New Plant Diseases Dataset(Augmented)/train/Tomato___Spider_mites Two-spotted_spider_mite\n",
            "/content/unzip_plant/New Plant Diseases Dataset(Augmented)/train/Soybean___healthy\n",
            "/content/unzip_plant/New Plant Diseases Dataset(Augmented)/train/Potato___Late_blight\n",
            "/content/unzip_plant/New Plant Diseases Dataset(Augmented)/train/Peach___Bacterial_spot\n",
            "/content/unzip_plant/New Plant Diseases Dataset(Augmented)/train/Cherry_(including_sour)___healthy\n",
            "/content/unzip_plant/New Plant Diseases Dataset(Augmented)/train/Squash___Powdery_mildew\n",
            "/content/unzip_plant/New Plant Diseases Dataset(Augmented)/train/Corn_(maize)___healthy\n",
            "/content/unzip_plant/New Plant Diseases Dataset(Augmented)/train/Apple___healthy\n",
            "/content/unzip_plant/New Plant Diseases Dataset(Augmented)/train/Strawberry___healthy\n"
          ]
        }
      ],
      "source": [
        "rootdir = '/content/unzip_plant/New Plant Diseases Dataset(Augmented)/train'\n",
        "for it in os.scandir(rootdir):\n",
        "  if it.is_dir():\n",
        "    count = 0\n",
        "    dir_path = it.path\n",
        "    for path in os.scandir(dir_path):\n",
        "        if path.is_file():\n",
        "            count += 1\n",
        "            if count>1800:\n",
        "              os.remove(path)\n",
        "    print(it.path)"
      ]
    },
    {
      "cell_type": "code",
      "execution_count": 10,
      "metadata": {
        "id": "w7hYMggSI9oM",
        "colab": {
          "base_uri": "https://localhost:8080/"
        },
        "outputId": "7c64c24b-edb2-4896-b94c-cfd7c7e8a3b1"
      },
      "outputs": [
        {
          "output_type": "stream",
          "name": "stdout",
          "text": [
            "/content/unzip_plant/New Plant Diseases Dataset(Augmented)/train/Grape___Leaf_blight_(Isariopsis_Leaf_Spot)\n",
            "file count: 1722\n",
            "/content/unzip_plant/New Plant Diseases Dataset(Augmented)/train/Strawberry___Leaf_scorch\n",
            "file count: 1774\n",
            "/content/unzip_plant/New Plant Diseases Dataset(Augmented)/train/Pepper,_bell___Bacterial_spot\n",
            "file count: 1800\n",
            "/content/unzip_plant/New Plant Diseases Dataset(Augmented)/train/Raspberry___healthy\n",
            "file count: 1781\n",
            "/content/unzip_plant/New Plant Diseases Dataset(Augmented)/train/Peach___healthy\n",
            "file count: 1728\n",
            "/content/unzip_plant/New Plant Diseases Dataset(Augmented)/train/Tomato___Early_blight\n",
            "file count: 1800\n",
            "/content/unzip_plant/New Plant Diseases Dataset(Augmented)/train/Apple___Black_rot\n",
            "file count: 1800\n",
            "/content/unzip_plant/New Plant Diseases Dataset(Augmented)/train/Apple___Cedar_apple_rust\n",
            "file count: 1760\n",
            "/content/unzip_plant/New Plant Diseases Dataset(Augmented)/train/Corn_(maize)___Cercospora_leaf_spot Gray_leaf_spot\n",
            "file count: 1642\n",
            "/content/unzip_plant/New Plant Diseases Dataset(Augmented)/train/Orange___Haunglongbing_(Citrus_greening)\n",
            "file count: 1800\n",
            "/content/unzip_plant/New Plant Diseases Dataset(Augmented)/train/Tomato___Bacterial_spot\n",
            "file count: 1702\n",
            "/content/unzip_plant/New Plant Diseases Dataset(Augmented)/train/Potato___healthy\n",
            "file count: 1800\n",
            "/content/unzip_plant/New Plant Diseases Dataset(Augmented)/train/Tomato___Late_blight\n",
            "file count: 1800\n",
            "/content/unzip_plant/New Plant Diseases Dataset(Augmented)/train/Grape___Esca_(Black_Measles)\n",
            "file count: 1800\n",
            "/content/unzip_plant/New Plant Diseases Dataset(Augmented)/train/Blueberry___healthy\n",
            "file count: 1800\n",
            "/content/unzip_plant/New Plant Diseases Dataset(Augmented)/train/Corn_(maize)___Common_rust_\n",
            "file count: 1800\n",
            "/content/unzip_plant/New Plant Diseases Dataset(Augmented)/train/Corn_(maize)___Northern_Leaf_Blight\n",
            "file count: 1800\n",
            "/content/unzip_plant/New Plant Diseases Dataset(Augmented)/train/Tomato___Tomato_Yellow_Leaf_Curl_Virus\n",
            "file count: 1800\n",
            "/content/unzip_plant/New Plant Diseases Dataset(Augmented)/train/Cherry_(including_sour)___Powdery_mildew\n",
            "file count: 1683\n",
            "/content/unzip_plant/New Plant Diseases Dataset(Augmented)/train/Grape___Black_rot\n",
            "file count: 1800\n",
            "/content/unzip_plant/New Plant Diseases Dataset(Augmented)/train/Apple___Apple_scab\n",
            "file count: 1800\n",
            "/content/unzip_plant/New Plant Diseases Dataset(Augmented)/train/Tomato___healthy\n",
            "file count: 1800\n",
            "/content/unzip_plant/New Plant Diseases Dataset(Augmented)/train/Tomato___Tomato_mosaic_virus\n",
            "file count: 1790\n",
            "/content/unzip_plant/New Plant Diseases Dataset(Augmented)/train/Potato___Early_blight\n",
            "file count: 1800\n",
            "/content/unzip_plant/New Plant Diseases Dataset(Augmented)/train/Tomato___Target_Spot\n",
            "file count: 1800\n",
            "/content/unzip_plant/New Plant Diseases Dataset(Augmented)/train/Grape___healthy\n",
            "file count: 1692\n",
            "/content/unzip_plant/New Plant Diseases Dataset(Augmented)/train/Tomato___Leaf_Mold\n",
            "file count: 1800\n",
            "/content/unzip_plant/New Plant Diseases Dataset(Augmented)/train/Pepper,_bell___healthy\n",
            "file count: 1800\n",
            "/content/unzip_plant/New Plant Diseases Dataset(Augmented)/train/Tomato___Septoria_leaf_spot\n",
            "file count: 1745\n",
            "/content/unzip_plant/New Plant Diseases Dataset(Augmented)/train/Tomato___Spider_mites Two-spotted_spider_mite\n",
            "file count: 1741\n",
            "/content/unzip_plant/New Plant Diseases Dataset(Augmented)/train/Soybean___healthy\n",
            "file count: 1800\n",
            "/content/unzip_plant/New Plant Diseases Dataset(Augmented)/train/Potato___Late_blight\n",
            "file count: 1800\n",
            "/content/unzip_plant/New Plant Diseases Dataset(Augmented)/train/Peach___Bacterial_spot\n",
            "file count: 1800\n",
            "/content/unzip_plant/New Plant Diseases Dataset(Augmented)/train/Cherry_(including_sour)___healthy\n",
            "file count: 1800\n",
            "/content/unzip_plant/New Plant Diseases Dataset(Augmented)/train/Squash___Powdery_mildew\n",
            "file count: 1736\n",
            "/content/unzip_plant/New Plant Diseases Dataset(Augmented)/train/Corn_(maize)___healthy\n",
            "file count: 1800\n",
            "/content/unzip_plant/New Plant Diseases Dataset(Augmented)/train/Apple___healthy\n",
            "file count: 1800\n",
            "/content/unzip_plant/New Plant Diseases Dataset(Augmented)/train/Strawberry___healthy\n",
            "file count: 1800\n"
          ]
        }
      ],
      "source": [
        "for it in os.scandir(rootdir):\n",
        "  if it.is_dir():\n",
        "    count = 0\n",
        "    dir_path = it.path\n",
        "    for path in os.scandir(dir_path):\n",
        "        if path.is_file():\n",
        "            count += 1\n",
        "    print(it.path)\n",
        "    print('file count:', count)"
      ]
    },
    {
      "cell_type": "code",
      "execution_count": 11,
      "metadata": {
        "id": "2XI9GVcHv79F"
      },
      "outputs": [],
      "source": [
        "selected_plants=['Apple','Cherry','Corn','Grape','Peach','Pepper','Potato','Strawberry','Tomato']\n",
        "rootdir = '/content/unzip_plant/New Plant Diseases Dataset(Augmented)/train'\n",
        "rootdir_test='/content/unzip_plant/New Plant Diseases Dataset(Augmented)/valid'\n",
        "get_label={}\n",
        "i=0\n",
        "for it in os.scandir(rootdir):\n",
        "    class_plant=os.path.basename(os.path.normpath(it.path))\n",
        "    if it.is_dir() and class_plant.startswith(tuple(selected_plants)):\n",
        "      get_label[class_plant]=i\n",
        "      i=i+1"
      ]
    },
    {
      "cell_type": "code",
      "execution_count": 12,
      "metadata": {
        "colab": {
          "base_uri": "https://localhost:8080/"
        },
        "id": "1jTQSHq9v79G",
        "outputId": "c0d107f1-446e-444f-eb67-8fa93dbcc622"
      },
      "outputs": [
        {
          "output_type": "execute_result",
          "data": {
            "text/plain": [
              "{'Apple___Apple_scab': 17,\n",
              " 'Apple___Black_rot': 5,\n",
              " 'Apple___Cedar_apple_rust': 6,\n",
              " 'Apple___healthy': 31,\n",
              " 'Cherry_(including_sour)___Powdery_mildew': 15,\n",
              " 'Cherry_(including_sour)___healthy': 29,\n",
              " 'Corn_(maize)___Cercospora_leaf_spot Gray_leaf_spot': 7,\n",
              " 'Corn_(maize)___Common_rust_': 12,\n",
              " 'Corn_(maize)___Northern_Leaf_Blight': 13,\n",
              " 'Corn_(maize)___healthy': 30,\n",
              " 'Grape___Black_rot': 16,\n",
              " 'Grape___Esca_(Black_Measles)': 11,\n",
              " 'Grape___Leaf_blight_(Isariopsis_Leaf_Spot)': 0,\n",
              " 'Grape___healthy': 22,\n",
              " 'Peach___Bacterial_spot': 28,\n",
              " 'Peach___healthy': 3,\n",
              " 'Pepper,_bell___Bacterial_spot': 2,\n",
              " 'Pepper,_bell___healthy': 24,\n",
              " 'Potato___Early_blight': 20,\n",
              " 'Potato___Late_blight': 27,\n",
              " 'Potato___healthy': 9,\n",
              " 'Strawberry___Leaf_scorch': 1,\n",
              " 'Strawberry___healthy': 32,\n",
              " 'Tomato___Bacterial_spot': 8,\n",
              " 'Tomato___Early_blight': 4,\n",
              " 'Tomato___Late_blight': 10,\n",
              " 'Tomato___Leaf_Mold': 23,\n",
              " 'Tomato___Septoria_leaf_spot': 25,\n",
              " 'Tomato___Spider_mites Two-spotted_spider_mite': 26,\n",
              " 'Tomato___Target_Spot': 21,\n",
              " 'Tomato___Tomato_Yellow_Leaf_Curl_Virus': 14,\n",
              " 'Tomato___Tomato_mosaic_virus': 19,\n",
              " 'Tomato___healthy': 18}"
            ]
          },
          "metadata": {},
          "execution_count": 12
        }
      ],
      "source": [
        "get_label"
      ]
    },
    {
      "cell_type": "code",
      "execution_count": null,
      "metadata": {
        "id": "jDlW76lJn_Rg"
      },
      "outputs": [],
      "source": [
        "#Save the encoded label dictionay\n",
        "import pickle\n",
        "a_file = open(\"inal_label_to_disease_2_june_v4\", \"wb\")\n",
        "pickle.dump(get_label, a_file)\n",
        "a_file.close()"
      ]
    },
    {
      "cell_type": "code",
      "execution_count": 14,
      "metadata": {
        "colab": {
          "base_uri": "https://localhost:8080/"
        },
        "id": "Ou5Hwbq0v79G",
        "outputId": "3a4fce97-6ef5-4af3-ca16-820d40176726"
      },
      "outputs": [
        {
          "output_type": "stream",
          "name": "stdout",
          "text": [
            "Adding Class into Data Frame -------> Grape___Leaf_blight_(Isariopsis_Leaf_Spot)\n",
            "Adding Class into Data Frame -------> Strawberry___Leaf_scorch\n",
            "Adding Class into Data Frame -------> Pepper,_bell___Bacterial_spot\n",
            "Adding Class into Data Frame -------> Peach___healthy\n",
            "Adding Class into Data Frame -------> Tomato___Early_blight\n",
            "Adding Class into Data Frame -------> Apple___Black_rot\n",
            "Adding Class into Data Frame -------> Apple___Cedar_apple_rust\n",
            "Adding Class into Data Frame -------> Corn_(maize)___Cercospora_leaf_spot Gray_leaf_spot\n",
            "Adding Class into Data Frame -------> Tomato___Bacterial_spot\n",
            "Adding Class into Data Frame -------> Potato___healthy\n",
            "Adding Class into Data Frame -------> Tomato___Late_blight\n",
            "Adding Class into Data Frame -------> Grape___Esca_(Black_Measles)\n",
            "Adding Class into Data Frame -------> Corn_(maize)___Common_rust_\n",
            "Adding Class into Data Frame -------> Corn_(maize)___Northern_Leaf_Blight\n",
            "Adding Class into Data Frame -------> Tomato___Tomato_Yellow_Leaf_Curl_Virus\n",
            "Adding Class into Data Frame -------> Cherry_(including_sour)___Powdery_mildew\n",
            "Adding Class into Data Frame -------> Grape___Black_rot\n",
            "Adding Class into Data Frame -------> Apple___Apple_scab\n",
            "Adding Class into Data Frame -------> Tomato___healthy\n",
            "Adding Class into Data Frame -------> Tomato___Tomato_mosaic_virus\n",
            "Adding Class into Data Frame -------> Potato___Early_blight\n",
            "Adding Class into Data Frame -------> Tomato___Target_Spot\n",
            "Adding Class into Data Frame -------> Grape___healthy\n",
            "Adding Class into Data Frame -------> Tomato___Leaf_Mold\n",
            "Adding Class into Data Frame -------> Pepper,_bell___healthy\n",
            "Adding Class into Data Frame -------> Tomato___Septoria_leaf_spot\n",
            "Adding Class into Data Frame -------> Tomato___Spider_mites Two-spotted_spider_mite\n",
            "Adding Class into Data Frame -------> Potato___Late_blight\n",
            "Adding Class into Data Frame -------> Peach___Bacterial_spot\n",
            "Adding Class into Data Frame -------> Cherry_(including_sour)___healthy\n",
            "Adding Class into Data Frame -------> Corn_(maize)___healthy\n",
            "Adding Class into Data Frame -------> Apple___healthy\n",
            "Adding Class into Data Frame -------> Strawberry___healthy\n"
          ]
        }
      ],
      "source": [
        "image_h=24\n",
        "image_w=24\n",
        "channels=3\n",
        "#create empty datframe\n",
        "emptyRDD = spark.sparkContext.emptyRDD()\n",
        "schema =StructType([\n",
        "        StructField('content',BinaryType(),True),\n",
        "        StructField('label',IntegerType(),True)\n",
        "    ])\n",
        "images_df = spark.createDataFrame(emptyRDD,schema)\n",
        "\n",
        "#import data\n",
        "for it in os.scandir(rootdir):\n",
        "    class_plant=os.path.basename(os.path.normpath(it.path))\n",
        "    if it.is_dir() and class_plant.startswith(tuple(selected_plants)):\n",
        "        print(\"Adding Class into Data Frame ------->\",class_plant)\n",
        "        single_df=spark.read.format(\"BinaryFile\").load(it.path).withColumn(\"label\", lit(get_label[class_plant]))\n",
        "        single_df=single_df.select('content','label')\n",
        "        images_df=images_df.union(single_df)\n",
        "        single_df.unpersist(blocking=True)\n",
        "\n",
        "def featurizer(content):\n",
        "    imm=img_to_array((Image.open(io.BytesIO(content)).resize([image_h,image_w])),dtype='float16')/255\n",
        "    return imm.flatten().tolist()\n",
        "\n",
        "convertUDF = udf(lambda z: featurizer(z), ArrayType(FloatType()))\n",
        "images_df=images_df.repartition(64).select(convertUDF(\"content\").alias(\"features\"),col(\"label\"))\n",
        "\n",
        "list_to_vector_udf = udf(lambda l: Vectors.dense(l), VectorUDT())\n",
        "images_df = images_df.select(\n",
        "col(\"label\"),list_to_vector_udf(images_df[\"features\"]).alias(\"features\"))\n",
        "# train, test = images_df.randomSplit(weights=[0.7,0.3], seed=123)"
      ]
    },
    {
      "cell_type": "code",
      "execution_count": 15,
      "metadata": {
        "id": "CDlARk7lzlsy",
        "colab": {
          "base_uri": "https://localhost:8080/"
        },
        "outputId": "6a3a6b64-3051-4c83-bd0a-ba8ccaadd383"
      },
      "outputs": [
        {
          "output_type": "execute_result",
          "data": {
            "text/plain": [
              "58579"
            ]
          },
          "metadata": {},
          "execution_count": 15
        }
      ],
      "source": [
        "# Number of rows : 58579\n",
        "# images_df.count()"
      ]
    },
    {
      "cell_type": "markdown",
      "metadata": {
        "id": "Q3sgpmji2_8j"
      },
      "source": [
        "##Modelling of Data \n",
        "\n",
        "\n",
        "Create a neural netwrok model that  :\n",
        "*   Reshape the data from flat list to original shape\n",
        "*   Has Convolutional neural network model for feature extraction.\n",
        "*   Fully connected layers for cllassification\n",
        "\n",
        "Elephas is used to enable distributed computing. It is an extension of Keras, which allows you to run distributed deep learning models at scale with Spark. \n",
        "\n",
        "\n"
      ]
    },
    {
      "cell_type": "code",
      "execution_count": null,
      "metadata": {
        "id": "8GWmEMy9v79I"
      },
      "outputs": [],
      "source": [
        "# len of features : 24*24*3 = 1728\n",
        "# input_dim=len(images_df.select('features').first()[0])"
      ]
    },
    {
      "cell_type": "code",
      "execution_count": null,
      "metadata": {
        "id": "pLh1jlUyv79I"
      },
      "outputs": [],
      "source": [
        "#less computational way \n",
        "input_dim = image_w*image_h*channels"
      ]
    },
    {
      "cell_type": "code",
      "execution_count": null,
      "metadata": {
        "id": "nQ6KmdkKv79J"
      },
      "outputs": [],
      "source": [
        "# Number of Classes : 33 \n",
        "#Excluding plants that have only healthy samples\n",
        "# nb_classes = images_df.select(\"label\").distinct().count()"
      ]
    },
    {
      "cell_type": "code",
      "execution_count": 13,
      "metadata": {
        "id": "k_kIETSnv79J",
        "colab": {
          "base_uri": "https://localhost:8080/"
        },
        "outputId": "e46503b7-4079-4a5c-ae42-634b58098f74"
      },
      "outputs": [
        {
          "output_type": "execute_result",
          "data": {
            "text/plain": [
              "33"
            ]
          },
          "metadata": {},
          "execution_count": 13
        }
      ],
      "source": [
        "# less computational way \n",
        "#  Number of Classes : 33 \n",
        "nb_classes=len(get_label)"
      ]
    },
    {
      "cell_type": "code",
      "execution_count": null,
      "metadata": {
        "id": "5NvYPBe4v79J"
      },
      "outputs": [],
      "source": [
        "from keras.models import Sequential\n",
        "from keras.layers import Dense,Activation,Dropout,Conv2D,MaxPooling2D,Flatten,Reshape\n",
        "model=Sequential()\n",
        "model.add(Reshape((image_w,image_h,3), input_shape=(input_dim,)))\n",
        "model.add(Conv2D(64, (2, 2), activation='relu', input_shape=(image_w,image_h,3)))\n",
        "model.add(MaxPooling2D((2, 2)))\n",
        "model.add(Conv2D(32, (2, 2), activation='relu'))\n",
        "model.add(Flatten())\n",
        "model.add (Dropout (rate=0.5))\n",
        "model.add (Dense (256))\n",
        "model.add (Activation('relu'))\n",
        "model.add (Dropout(rate=0.25))\n",
        "model.add (Dense (nb_classes))\n",
        "model.add (Activation('softmax'))\n",
        "model.compile(loss='categorical_crossentropy',optimizer='adam',run_eagerly=True)"
      ]
    },
    {
      "cell_type": "code",
      "execution_count": null,
      "metadata": {
        "colab": {
          "base_uri": "https://localhost:8080/"
        },
        "id": "EvNU7DTAv79J",
        "outputId": "446b7f8f-87dc-48ae-ead9-bb3adce65d10"
      },
      "outputs": [
        {
          "output_type": "execute_result",
          "data": {
            "text/plain": [
              "ElephasEstimator_e90bbb9307cf"
            ]
          },
          "metadata": {},
          "execution_count": 23
        }
      ],
      "source": [
        "# Set and Serialize Optimi zer\n",
        "optimizer_conf = tf.keras.optimizers.Adam(0.0001)\n",
        "opt_conf = optimizers.serialize(optimizer_conf)\n",
        "#Initialize SparkML Estimator and Get Settings\n",
        "estimator = ElephasEstimator()\n",
        "estimator.setFeaturesCol(\"features\")\n",
        "estimator.setLabelCol(\"label\")\n",
        "estimator.set_keras_model_config(model.to_json())\n",
        "estimator.set_categorical_labels(True)\n",
        "estimator.set_nb_classes(nb_classes)\n",
        "estimator.set_num_workers(1)\n",
        "estimator.set_epochs(70)\n",
        "estimator.set_batch_size(64)\n",
        "estimator.set_verbosity(1)\n",
        "estimator.set_validation_split(0.20)\n",
        "estimator.set_optimizer_config(opt_conf)\n",
        "estimator.set_mode(\"synchronous\")\n",
        "estimator.set_loss (\"categorical_crossentropy\")\n",
        "estimator.set_metrics (['acc'])"
      ]
    },
    {
      "cell_type": "code",
      "execution_count": null,
      "metadata": {
        "colab": {
          "base_uri": "https://localhost:8080/"
        },
        "id": "9cDBGa__v79K",
        "outputId": "52ea40d0-3776-49ce-cff7-a16df2e79e35"
      },
      "outputs": [
        {
          "output_type": "stream",
          "name": "stdout",
          "text": [
            ">>> Fit model\n",
            ">>> Synchronous training complete.\n"
          ]
        }
      ],
      "source": [
        "tran=estimator.fit(images_df)\n",
        "#Save elephas tranformer for using on testing data and streamlit application.\n",
        "tran.save(\"colab_elephas_transformer_2june_v4.h5\")"
      ]
    },
    {
      "cell_type": "markdown",
      "source": [
        "Model performnace on train and validation set after 70 epochs."
      ],
      "metadata": {
        "id": "ComdMEfoKNE5"
      }
    },
    {
      "cell_type": "code",
      "execution_count": null,
      "metadata": {
        "colab": {
          "base_uri": "https://localhost:8080/",
          "height": 377
        },
        "id": "VKeOo3_-z3Ik",
        "outputId": "8ed36738-bd1d-4880-f236-fcdcb9f63fa1"
      },
      "outputs": [
        {
          "output_type": "display_data",
          "data": {
            "text/plain": [
              "<Figure size 576x396 with 1 Axes>"
            ],
            "image/png": "[encoded data removed]"
          },
          "metadata": {
            "needs_background": "light"
          }
        }
      ],
      "source": [
        "train_acc=tran.history[0]['acc']\n",
        "train_loss=tran.history[0]['loss']\n",
        "val_acc=tran.history[0]['val_acc']\n",
        "val_loss=tran.history[0]['val_loss']\n",
        "\n",
        "plt.plot(train_acc)\n",
        "plt.plot(train_loss)\n",
        "plt.plot(val_acc)\n",
        "plt.plot(val_loss)\n",
        "plt.title('model accuracy')\n",
        "plt.ylabel('accuracy')\n",
        "plt.xlabel('epoch')\n",
        "plt.legend(['accuracy', 'loss','val_accuracy', 'val_loss'], loc='upper right')\n",
        "plt.savefig('acc_2_june_v4.png')\n",
        "plt.show()\n"
      ]
    },
    {
      "cell_type": "code",
      "source": [
        "# spark.catalog.clearCache()"
      ],
      "metadata": {
        "id": "4txuXY-CrlhS"
      },
      "execution_count": null,
      "outputs": []
    },
    {
      "cell_type": "code",
      "source": [
        "# for (id, rdd) in sc._jsc.getPersistentRDDs().items():\n",
        "#     rdd.unpersist(blocking=True)\n",
        "#     print(\"Unpersisted {} rdd\".format(id))"
      ],
      "metadata": {
        "id": "NSDBlcLwr8mR"
      },
      "execution_count": null,
      "outputs": []
    },
    {
      "cell_type": "code",
      "source": [
        "# images_df.unpersist(blocking=True)\n",
        "# single_df.unpersist(blocking=True)\n",
        "# del images_df,single_df\n",
        "# import gc\n",
        "# gc.collect()"
      ],
      "metadata": {
        "colab": {
          "base_uri": "https://localhost:8080/"
        },
        "id": "eUdvnUk69e0I",
        "outputId": "119df1f9-d2f6-46a6-cd88-8238d33f3f6f"
      },
      "execution_count": null,
      "outputs": [
        {
          "output_type": "execute_result",
          "data": {
            "text/plain": [
              "617"
            ]
          },
          "metadata": {},
          "execution_count": 39
        }
      ]
    }
  ],
  "metadata": {
    "colab": {
      "collapsed_sections": [],
      "name": "Final_Big_data.ipynb",
      "provenance": []
    },
    "kernelspec": {
      "display_name": "Python 3",
      "language": "python",
      "name": "python3"
    },
    "language_info": {
      "codemirror_mode": {
        "name": "ipython",
        "version": 3
      },
      "file_extension": ".py",
      "mimetype": "text/x-python",
      "name": "python",
      "nbconvert_exporter": "python",
      "pygments_lexer": "ipython3",
      "version": "3.7.12"
    }
  },
  "nbformat": 4,
  "nbformat_minor": 0
}